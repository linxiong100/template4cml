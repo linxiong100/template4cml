{
 "cells": [
  {
   "cell_type": "markdown",
   "id": "0e4122e5-99cd-4803-8858-7053ed58f055",
   "metadata": {},
   "source": [
    "# template for building command line tools \n",
    "create python command line tool template"
   ]
  },
  {
   "cell_type": "markdown",
   "id": "a02dad68-1e76-401f-9159-7a403593e607",
   "metadata": {},
   "source": [
    "## create virtual environment\n",
    "python -m venv ../virtual\n",
    "\n",
    "source  ../virtual/bin/activate"
   ]
  },
  {
   "cell_type": "markdown",
   "id": "1ab204cd-cb32-49d0-9c4f-e01c7d640165",
   "metadata": {},
   "source": [
    "## print files structure"
   ]
  },
  {
   "cell_type": "code",
   "execution_count": 9,
   "id": "74835916-3324-4bcd-ae34-2ff74b04d34b",
   "metadata": {},
   "outputs": [
    {
     "name": "stdout",
     "output_type": "stream",
     "text": [
      "./\n",
      "├── ReadME.ipynb\n",
      "├── README.md\n",
      "├── py_tools/\n",
      "│   ├── setup.py\n",
      "│   ├── LICENSE\n",
      "│   ├── README.md\n",
      "│   ├── py_tools/\n",
      "│   │   ├── c2.py\n",
      "│   │   ├── __init__.py\n",
      "│   │   ├── c1.py\n",
      "│   ├── src/\n",
      "│   │   ├── __init__.py\n",
      "│   │   ├── module1.py\n"
     ]
    }
   ],
   "source": [
    "import os\n",
    "def print_file_structure(directory, indent=''):\n",
    "    for item in os.listdir(directory):\n",
    "        if item.startswith('.'): continue\n",
    "        item_path = os.path.join(directory, item)\n",
    "        if os.path.isfile(item_path):\n",
    "            print(f\"{indent}├── {item}\")\n",
    "        elif os.path.isdir(item_path):\n",
    "            print(f\"{indent}├── {item}/\")\n",
    "            print_file_structure(item_path, indent + \"│   \")\n",
    "# Replace 'path_to_your_directory' with the actual path to the directory you want to print\n",
    "directory_path = '.'\n",
    "print(f\"{os.path.basename(directory_path)}/\")\n",
    "print_file_structure(directory_path)"
   ]
  },
  {
   "cell_type": "markdown",
   "id": "b18ee570-0ec7-4de2-927b-fd4979d95bfd",
   "metadata": {},
   "source": [
    "## install\n",
    "pip install ."
   ]
  },
  {
   "cell_type": "markdown",
   "id": "4a899c75-fa7a-4ab8-accc-46fef899dfa4",
   "metadata": {},
   "source": [
    "## use\n",
    "py_tools_c1\n",
    "\n",
    "py_tools_c2 yourname"
   ]
  },
  {
   "cell_type": "markdown",
   "id": "55306aeb-d3fc-4f0a-a737-e77153451d4d",
   "metadata": {},
   "source": [
    "# References\n",
    "https://betterscientificsoftware.github.io/python-for-hpc/tutorials/python-pypi-packaging/\n",
    "\n",
    "https://www.freecodecamp.org/news/how-to-create-and-upload-your-first-python-package-to-pypi/"
   ]
  },
  {
   "cell_type": "code",
   "execution_count": null,
   "id": "6654da54-dce2-4f05-bcba-d3d6b20996cb",
   "metadata": {},
   "outputs": [],
   "source": []
  }
 ],
 "metadata": {
  "kernelspec": {
   "display_name": "Python 3 (ipykernel)",
   "language": "python",
   "name": "python3"
  },
  "language_info": {
   "codemirror_mode": {
    "name": "ipython",
    "version": 3
   },
   "file_extension": ".py",
   "mimetype": "text/x-python",
   "name": "python",
   "nbconvert_exporter": "python",
   "pygments_lexer": "ipython3",
   "version": "3.11.4"
  }
 },
 "nbformat": 4,
 "nbformat_minor": 5
}
